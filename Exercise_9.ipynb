{
 "cells": [
  {
   "cell_type": "markdown",
   "metadata": {},
   "source": [
    "### **Chapter 9: _REPRESENTATION OF NUMBERS_**"
   ]
  },
  {
   "cell_type": "markdown",
   "metadata": {},
   "source": [
    "**Q1.** Write a function *my_bin_2_dec(b)*, where b is a binary number represented by a list of ones and zeros.The last element of b represents the coefficient of $2^0$, the second-to-last element of b represents the coefficient of $2^1$, and so on. The output variable, d, should be the decimal representation of b. \n"
   ]
  },
  {
   "cell_type": "code",
   "execution_count": 1,
   "metadata": {},
   "outputs": [
    {
     "name": "stdout",
     "output_type": "stream",
     "text": [
      "7\n",
      "85\n",
      "33554431\n"
     ]
    }
   ],
   "source": [
    "def my_bin_2_dec(b):\n",
    "    d = 0\n",
    "    for i in range(len(b)):\n",
    "        d += b[i] * 2**(len(b)-i-1)\n",
    "    return d\n",
    "\n",
    "print(my_bin_2_dec([1, 1, 1]))\n",
    "print(my_bin_2_dec([1, 0, 1, 0, 1, 0, 1]))\n",
    "print(my_bin_2_dec([1]*25))"
   ]
  },
  {
   "cell_type": "markdown",
   "metadata": {},
   "source": [
    "**Q2.**  Write a function *my_dec_2_bin(d),* where d is a positive integer in decimal, and b is the binary representation of d. The output b must be a list of ones and zeros, and the leading term must be a 1 unless the decimal input value is 0. Test cases are provided below."
   ]
  },
  {
   "cell_type": "code",
   "execution_count": 2,
   "metadata": {},
   "outputs": [
    {
     "name": "stdout",
     "output_type": "stream",
     "text": [
      "[0]\n",
      "[1, 0, 1, 1, 1]\n",
      "[1, 0, 0, 0, 0, 0, 1, 1, 0, 0, 0, 1]\n"
     ]
    }
   ],
   "source": [
    "def my_dec_2_bin(d):\n",
    "    b = []\n",
    "    if d == 0:\n",
    "        return [0]\n",
    "    while d > 0:\n",
    "        b.append(d % 2)\n",
    "        d = d // 2\n",
    "    b.reverse()\n",
    "    return b\n",
    "\n",
    "print(my_dec_2_bin(0))\n",
    "print(my_dec_2_bin(23))\n",
    "print(my_dec_2_bin(2097))"
   ]
  },
  {
   "cell_type": "markdown",
   "metadata": {},
   "source": [
    "**Q3.** Use the two functions you wrote in $\\text{Problems 1 and 2}$ to compute *d = my_bin_2_dec(my_dec_2_bin(12654))*. Do you get the same number?"
   ]
  },
  {
   "cell_type": "code",
   "execution_count": 3,
   "metadata": {},
   "outputs": [
    {
     "data": {
      "text/plain": [
       "12654"
      ]
     },
     "execution_count": 3,
     "metadata": {},
     "output_type": "execute_result"
    }
   ],
   "source": [
    "d = my_bin_2_dec(my_dec_2_bin(12654))\n",
    "d"
   ]
  },
  {
   "cell_type": "markdown",
   "metadata": {},
   "source": [
    "**Q4.**  Write a function *my_bin_adder(b1,b2)*, where b1, b2 and the output variable b are binary numbers represented as in Problem 1. The output variable should be computed as b = b1 + b2. Do not use your functions from Problems 1 and 2 to write this function (i.e., do not convert b1 and b2 to decimals; add them and then convert the result back to binary). This function should be able to accept inputs b1 and b2 of any length (i.e., very long binary numbers), and b1 and b2 may not necessarily be of the same length."
   ]
  },
  {
   "cell_type": "code",
   "execution_count": 4,
   "metadata": {},
   "outputs": [
    {
     "name": "stdout",
     "output_type": "stream",
     "text": [
      "[1, 0, 0, 0, 0, 0]\n",
      "[1, 1, 1, 0, 0, 1, 1]\n",
      "[1, 0, 1, 1]\n"
     ]
    }
   ],
   "source": [
    "def my_bin_adder(b1, b2):\n",
    "    b1 = b1[::-1]\n",
    "    b2 = b2[::-1]\n",
    "    max_len = max(len(b1), len(b2))\n",
    "    b1 += [0] * (max_len - len(b1))\n",
    "    b2 += [0] * (max_len - len(b2))\n",
    "\n",
    "    carry = 0\n",
    "    b = []\n",
    "    \n",
    "    for i in range(max_len):\n",
    "        b.append((b1[i] + b2[i] + carry) % 2)\n",
    "        carry = (b1[i] + b2[i] + carry) // 2\n",
    "    \n",
    "    if carry:\n",
    "        b.append(carry)\n",
    "    \n",
    "    return b[::-1]\n",
    "\n",
    "print(my_bin_adder([1, 1, 1, 1, 1], [1]))\n",
    "print(my_bin_adder([1, 1, 1, 1, 1], [1, 0, 1, 0, 1, 0, 0]))\n",
    "print(my_bin_adder([1, 1, 0], [1, 0, 1]))\n"
   ]
  },
  {
   "cell_type": "markdown",
   "metadata": {},
   "source": [
    "**Q6.** Write a function *my_ieee_2_dec(ieee)*, where ieee is a string that contains 64 characters of ones and zeros, representing a 64-bit IEEE754 number. The output should be d, which is the equivalent decimal representation of ieee. The input variable ieee will always be a 64-element string of ones and zeros defining a 64-bit float."
   ]
  },
  {
   "cell_type": "code",
   "execution_count": 5,
   "metadata": {},
   "outputs": [
    {
     "name": "stdout",
     "output_type": "stream",
     "text": [
      "-48.0\n",
      "3.39999999999999991118215802998\n"
     ]
    }
   ],
   "source": [
    "import decimal\n",
    "decimal.getcontext().prec = 30\n",
    "\n",
    "def my_ieee_2_dec(ieee):\n",
    "    sign = int(ieee[0])\n",
    "    exponent = int(ieee[1:12], 2) - 1023\n",
    "    \n",
    "    fraction = decimal.Decimal(0)\n",
    "    for i in range(12, 64):\n",
    "        if ieee[i] == '1':\n",
    "            fraction += decimal.Decimal(0.5)**(i-11)\n",
    "    \n",
    "    if exponent == -1023:\n",
    "        d = fraction * 2**(-1022)\n",
    "    else:\n",
    "        d = (1 + fraction) * 2**exponent\n",
    "    \n",
    "    return d * (-1)**sign\n",
    "\n",
    "ieee = \"1100000001001000000000000000000000000000000000000000000000000000\"\n",
    "print(my_ieee_2_dec(ieee))\n",
    "\n",
    "ieee = \"0100000000001011001100110011001100110011001100110011001100110011\"\n",
    "print(my_ieee_2_dec(ieee))"
   ]
  },
  {
   "cell_type": "markdown",
   "metadata": {},
   "source": [
    "**Q7.** Write a function *my_dec_2_ieee(d),* where d is a number in decimal, and the output variable ieee is a string with 64 characters of ones and zeros, representing the 64-bit IEEE754 closest to d. Assume that d will not cause an overflow for 64-bit ieee numbers."
   ]
  },
  {
   "cell_type": "code",
   "execution_count": 6,
   "metadata": {},
   "outputs": [
    {
     "name": "stdout",
     "output_type": "stream",
     "text": [
      "0100000000101110010111101010001110011100001100011010010001101000\n",
      "1100000001110011010100100100010010010001001010011000100010010000\n",
      "1100000011011000101010010000000000000000000000000000000000000000\n"
     ]
    }
   ],
   "source": [
    "def my_dec_2_ieee(decimal):\n",
    "    if decimal >= 0:\n",
    "        sign = '0'\n",
    "    else:\n",
    "        sign = '1'\n",
    "    \n",
    "    decimal = abs(decimal)\n",
    "    exponent = 0\n",
    "    fraction = decimal\n",
    "    \n",
    "    while fraction >= 2:\n",
    "        fraction /= 2\n",
    "        exponent += 1\n",
    "    \n",
    "    while fraction < 1:\n",
    "        fraction *= 2\n",
    "        exponent -= 1\n",
    "    \n",
    "    fraction -= 1\n",
    "    exponent_bits = bin(exponent + 1023)[2:].zfill(11)\n",
    "    \n",
    "    mantissa_bits = ''\n",
    "    for _ in range(52):\n",
    "        fraction *= 2\n",
    "        bit = int(fraction)\n",
    "        mantissa_bits += str(bit)\n",
    "        fraction -= bit\n",
    "    \n",
    "    return sign + exponent_bits + mantissa_bits\n",
    "\n",
    "d = 15.18484199625\n",
    "print(my_dec_2_ieee(d))\n",
    "d = -309.141740\n",
    "print(my_dec_2_ieee(d)) \n",
    "d = -25252\n",
    "print(my_dec_2_ieee(d))  "
   ]
  },
  {
   "cell_type": "markdown",
   "metadata": {},
   "source": [
    "*This is the **END** of the Exercise.*"
   ]
  }
 ],
 "metadata": {
  "kernelspec": {
   "display_name": "Python 3",
   "language": "python",
   "name": "python3"
  },
  "language_info": {
   "codemirror_mode": {
    "name": "ipython",
    "version": 3
   },
   "file_extension": ".py",
   "mimetype": "text/x-python",
   "name": "python",
   "nbconvert_exporter": "python",
   "pygments_lexer": "ipython3",
   "version": "3.10.12"
  }
 },
 "nbformat": 4,
 "nbformat_minor": 2
}
