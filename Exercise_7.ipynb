{
 "cells": [
  {
   "cell_type": "markdown",
   "metadata": {},
   "source": [
    "**Chapter 7. _OBJECT-ORIENTED PROGRAMMING_**"
   ]
  },
  {
   "cell_type": "code",
   "execution_count": 1,
   "metadata": {},
   "outputs": [],
   "source": [
    "import matplotlib.pyplot as plt\n",
    "import numpy as np\n",
    "%matplotlib inline"
   ]
  },
  {
   "cell_type": "markdown",
   "metadata": {},
   "source": [
    "**Q5.**  The following is a definition of the class *Point* that takes in the coordinates *x, y*. Add a method *plot_point* that plots the position of a point.\n",
    "\n",
    "**Q6.** Use the class from **_Problem-5_** and add a method *calculate_dist* which takes in x and y from another point, and returns the distance calculated between the two points."
   ]
  },
  {
   "cell_type": "code",
   "execution_count": 2,
   "metadata": {},
   "outputs": [
    {
     "data": {
      "image/png": "[encoded data removed]",
      "text/plain": [
       "<Figure size 800x600 with 1 Axes>"
      ]
     },
     "metadata": {},
     "output_type": "display_data"
    },
    {
     "name": "stdout",
     "output_type": "stream",
     "text": [
      "50.0\n"
     ]
    }
   ],
   "source": [
    "class Point():\n",
    "    \n",
    "    def __init__(self, x, y):\n",
    "        self.x = x\n",
    "        self.y = y\n",
    "    def plot_point(self):\n",
    "        plt.figure(figsize = (8, 6))\n",
    "        plt.grid()\n",
    "        plt.plot(self.x, self.y, 'ko')\n",
    "        plt.show()    \n",
    "    def calculate_dist(self, x, y):\n",
    "        return np.sqrt((self.x - x)**2 + (self.y - y)**2)\n",
    "        \n",
    "x = Point(80,60)\n",
    "x.plot_point()\n",
    "print(x.calculate_dist(40, 30))"
   ]
  },
  {
   "cell_type": "markdown",
   "metadata": {},
   "source": [
    "**Q7.** What’s inheritance?\n",
    "\n",
    "**_Ans:-_** Inheritance is a concept in Object-Oriented Programming (OOP) where a class (child class) inherits properties and methods from another class (parent class). This allows code reuse and extending functionality."
   ]
  },
  {
   "cell_type": "markdown",
   "metadata": {},
   "source": [
    "_This is the **END** of the Exercise._"
   ]
  }
 ],
 "metadata": {
  "kernelspec": {
   "display_name": "Python 3",
   "language": "python",
   "name": "python3"
  },
  "language_info": {
   "codemirror_mode": {
    "name": "ipython",
    "version": 3
   },
   "file_extension": ".py",
   "mimetype": "text/x-python",
   "name": "python",
   "nbconvert_exporter": "python",
   "pygments_lexer": "ipython3",
   "version": "3.10.12"
  }
 },
 "nbformat": 4,
 "nbformat_minor": 2
}
