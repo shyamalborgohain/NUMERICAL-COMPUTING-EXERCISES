{
 "cells": [
  {
   "cell_type": "markdown",
   "metadata": {},
   "source": [
    "### **Chapter 14:  _LINEAR ALGEBRA AND SYSTEM OF LINEAR EQUATIONS_**"
   ]
  },
  {
   "cell_type": "code",
   "execution_count": 1,
   "metadata": {},
   "outputs": [],
   "source": [
    "import numpy as np\n",
    "from numpy.linalg import norm\n",
    "from numpy.linalg import matrix_rank as rank\n",
    "from string import ascii_lowercase "
   ]
  },
  {
   "cell_type": "markdown",
   "metadata": {},
   "source": [
    "**Q3.**  Write a function **_my_is_orthogonal(v1, v2, tol)_**, where *v1* and *v2* are column vectors of the same size, and *tol* is a scalar value strictly larger than zero. The output should be 1 if the angle between *v1* and *v2* is within *tol* of π/2, that is, *|π/2−θ| < tol*, and zero otherwise. You may assume that *v1* and *v2* are column vectors of the same size, and that tol is a positive scalar."
   ]
  },
  {
   "cell_type": "code",
   "execution_count": 2,
   "metadata": {},
   "outputs": [
    {
     "name": "stdout",
     "output_type": "stream",
     "text": [
      "1\n",
      "0\n",
      "1\n"
     ]
    }
   ],
   "source": [
    "def my_is_orthogonal(v1, v2, tol):\n",
    "    theta = np.arccos(np.dot(v1.T, v2) / (norm(v1) * norm(v2)))\n",
    "    if abs(np.pi/2 - theta) < tol:\n",
    "        return 1\n",
    "    else:\n",
    "        return 0\n",
    "    \n",
    "a = np.array([[1], [0.001]])\n",
    "b = np.array([[0.001], [1]])\n",
    "print(my_is_orthogonal(a, b, 0.01))\n",
    "\n",
    "a = np.array([[1], [0.001]])\n",
    "b = np.array([[1], [1]])\n",
    "print(my_is_orthogonal(a, b, 0.01))\n",
    "\n",
    "a = np.array([[1], [1]])\n",
    "b = np.array([[-1], [1]])\n",
    "print(my_is_orthogonal(a, b, 1e-10))"
   ]
  },
  {
   "cell_type": "markdown",
   "metadata": {},
   "source": [
    "**Q3.** Write a function **_my_is_similar(s1, s2, tol),_** where *s1* and *s2* are strings, not necessarily of the same size, and *tol* is a scalar value strictly larger than zero. From *s1* and *s2*, the function should construct two vectors, *v1* and *v2*, where *v1[0]* is the number of a’s in *s1*, *v1[1]* is the number b’s in *s1*, and so on until *v1[25]*, which is the number of z’s in *v1*. The vector *v2* should be similarly constructed from *s2*. The output should be 1 if the absolute value of the angle between *v1* and *v2* is less than *tol*, that is, *|θ| < tol*."
   ]
  },
  {
   "cell_type": "code",
   "execution_count": 3,
   "metadata": {},
   "outputs": [
    {
     "name": "stdout",
     "output_type": "stream",
     "text": [
      "1\n",
      "0\n"
     ]
    }
   ],
   "source": [
    "def my_is_similar(s1, s2, tol):\n",
    "    v1 = []\n",
    "    v2 = []\n",
    "    for i in ascii_lowercase:\n",
    "        v1.append(s1.count(i))\n",
    "        v2.append(s2.count(i))\n",
    "    theta = np.arccos(np.dot(v1,  v2)/((norm(v1) * norm(v2))))\n",
    "    if abs(theta) < tol:\n",
    "        return 1\n",
    "    else:\n",
    "        return 0\n",
    "    \n",
    "print(my_is_similar(\"asdef\", \"asdef\", 0.5))\n",
    "print(my_is_similar(\"ugfrytyftg\", \"hubgreiuvohoewrjicfhnoinfw\", 0.3))"
   ]
  },
  {
   "cell_type": "markdown",
   "metadata": {},
   "source": [
    "**Q4.** Write a function **_my_make_lin_ind(A)_**, where A and B are matrices. Let *rank(A) = n*. Then B should be a matrix containing the first n columns of A that are all linearly independent. Note that this implies that B has full rank."
   ]
  },
  {
   "cell_type": "code",
   "execution_count": 4,
   "metadata": {},
   "outputs": [],
   "source": [
    "from numpy.linalg import matrix_rank as rank"
   ]
  },
  {
   "cell_type": "code",
   "execution_count": 5,
   "metadata": {},
   "outputs": [
    {
     "name": "stdout",
     "output_type": "stream",
     "text": [
      "B = \n",
      " [[ 12  11 -24  15]\n",
      " [ 19  10 -31   9]\n",
      " [  1  21  -5  20]\n",
      " [  6  13 -10   5]\n",
      " [ 22   2 -12  23]]\n"
     ]
    }
   ],
   "source": [
    "def my_make_lin_ind(A):\n",
    "    n = A.shape[1]\n",
    "    B = []\n",
    "    for i in range(n):\n",
    "        if rank(np.array(B + [A[:, i]])) > len(B):\n",
    "            B.append(A[:, i])\n",
    "    return np.array(B).T\n",
    "\n",
    "A = np.array([[12,24,0,11,-24,18,15], [19,38,0,10,-31,25,9], [1,2,0,21,-5,3,20], [6,12,0,13,-10,8,5], [22,44,0,2,-12,17,23]])\n",
    "B = my_make_lin_ind(A)\n",
    "print(f\"B = \\n {B}\")"
   ]
  },
  {
   "cell_type": "markdown",
   "metadata": {},
   "source": [
    "**Q12.**  Consider the following network shown in **Page-263 _(Fig. 14.1)_** consisting of two power supply stations denoted by *S1* and *S2* and five power recipient nodes denoted by *N1* to *N5*. The nodes are connected by power lines, which are denoted by arrows, and power can flow between nodes along these lines in both directions.\n",
    "\n",
    "\n",
    "Let $d_i$ be a positive scalar denoting the power demand for node *i*; assume that this demand must be met exactly. The capacity of the power supply stations is denoted by *S*. Power supply stations must run at capacity. For each arrow, let $f_j$ be the power flow along that arrow. Negative flow implies that power is running in the opposite direction of the arrow.\n",
    "\n",
    "\n",
    "Write a function _**my_flow_calculator(S, d)**_, where *S* is a 1 × 2 vector representing the capacity of each power supply station, and *d* is a 1 × 5 row vector representing the demands at each node (i.e., $d[0]$ is the demand at node 1). The output argument, $f$, should be a 1 × 7 row vector denoting the flows in the network (i.e., $f[0] = f_1$ in the diagram). The flows contained in $f$ should satisfy all the constraints of the system, like power generation and demands. Note that there may be more than one solution to the system of equations.\n",
    "\n",
    "\n",
    " The total flow into a node must equal the total flow out of the node plus the demand; that is, for\n",
    " each node *i*, $f_{inflow} = f_{outflow} + d_i$. You may assume that $\\sum Sj = \\sum d_i.$"
   ]
  },
  {
   "cell_type": "code",
   "execution_count": 6,
   "metadata": {},
   "outputs": [
    {
     "name": "stdout",
     "output_type": "stream",
     "text": [
      "[10.   4.  -2.   4.5  5.5  2.5  1.5]\n",
      "[10.   5.  -1.   4.5  5.5  2.5  1.5]\n"
     ]
    }
   ],
   "source": [
    "import numpy as np\n",
    "\n",
    "def my_flow_calculator(S, d):\n",
    "    y = np.concatenate((S.flatten(), d.flatten()))[:6]\n",
    "    A = np.array([[1, 0, 0, 0, 0, 0, 0], [0, 0, 0, 1, 1, 0, 0], [0, 0, -1, 1, 0, -1, 0], \n",
    "                  [0, 0, 0, 0, 1, 0, -1], [0, 1, 0, 0, 0, 0, 0], [1, -1, 1, 0, 0, 0, 0]])\n",
    "    x = np.linalg.lstsq(A, y, rcond=None)[0]\n",
    "    return x\n",
    "\n",
    "S = np.array([[10, 10]])\n",
    "d = np.array([[4, 4, 4, 4, 4]])\n",
    "print(my_flow_calculator(S, d))\n",
    "\n",
    "S = np.array([[10, 10]])\n",
    "d = np.array([[3, 4, 5, 4, 4]])\n",
    "print(my_flow_calculator(S, d))"
   ]
  },
  {
   "cell_type": "markdown",
   "metadata": {},
   "source": [
    "_This is the **END** of the Exercise._"
   ]
  }
 ],
 "metadata": {
  "kernelspec": {
   "display_name": "Python 3",
   "language": "python",
   "name": "python3"
  },
  "language_info": {
   "codemirror_mode": {
    "name": "ipython",
    "version": 3
   },
   "file_extension": ".py",
   "mimetype": "text/x-python",
   "name": "python",
   "nbconvert_exporter": "python",
   "pygments_lexer": "ipython3",
   "version": "3.10.12"
  }
 },
 "nbformat": 4,
 "nbformat_minor": 2
}
