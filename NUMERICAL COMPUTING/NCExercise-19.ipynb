{
 "cells": [
  {
   "cell_type": "markdown",
   "metadata": {},
   "source": [
    "### **Chapter 19:** $\\underline{\\textbf{ROOT FINDING}}$"
   ]
  },
  {
   "cell_type": "code",
   "execution_count": 1,
   "metadata": {},
   "outputs": [],
   "source": [
    "import numpy as np"
   ]
  },
  {
   "cell_type": "markdown",
   "metadata": {},
   "source": [
    "**Q4.** Write a function $my\\_bisection(f,a,b,tol)$ that returns $[R,E],$ where $f$ is a function object, $a$ and $b$ are scalars such that $a<b,$ and $tol$ is a strictly positive scalar value. The function should return an array, $R,$ where $R[i]$ is the estimation of the root of $f$ defined by $\\frac{(a +b)}{2}$ for the $i^{th}$ iteration of the bisection method. Remember to include the initial estimate. The function should also return an array, $E,$ where $E[i]$ is the value of $|f(R[i])|$ for the $i^{th}$ iteration of the bisection method. The function should terminate when $E(i) < tol.$ Assume that $sign(f(a)) \\neq sign(f(b)).$ Clarification: The input $a$ and $b$ constitute the first iteration of bisection; therefore, $R$ and $E$ should never be empty."
   ]
  },
  {
   "cell_type": "code",
   "execution_count": 2,
   "metadata": {},
   "outputs": [],
   "source": [
    "def my_bisection(f,a,b,tol):\n",
    "    c = (a+b)/2\n",
    "    R = [c]\n",
    "    E = [float(abs(f(c)))]\n",
    "    while E[-1] >= tol:\n",
    "        if f(a)*f(c)<0:\n",
    "            b = c\n",
    "        else:\n",
    "            a = c\n",
    "        c = (a+b)/2\n",
    "        R.append(c)\n",
    "        E.append(float(abs(f(c))))    \n",
    "    return R, E"
   ]
  },
  {
   "cell_type": "code",
   "execution_count": 3,
   "metadata": {},
   "outputs": [
    {
     "name": "stdout",
     "output_type": "stream",
     "text": [
      "R = [1.0, 1.5, 1.25, 1.375, 1.4375]\n",
      "E = [1.0, 0.25, 0.4375, 0.109375, 0.06640625]\n"
     ]
    }
   ],
   "source": [
    "f = lambda x: x**2- 2\n",
    "[R, E] = my_bisection(f, 0, 2, 1e-1)\n",
    "print(f\"R = {R}\\nE = {E}\")"
   ]
  },
  {
   "cell_type": "code",
   "execution_count": 4,
   "metadata": {},
   "outputs": [
    {
     "name": "stdout",
     "output_type": "stream",
     "text": [
      "R = [1.0, 0.5, 0.75, 0.875, 0.8125, 0.78125]\n",
      "E = [0.30116867893975674, 0.39815702328616975, 0.050050108850486774, 0.126546644072702, 0.038323093040207756, 0.005866372111545948]\n"
     ]
    }
   ],
   "source": [
    "f = lambda x: np.sin(x)- np.cos(x)\n",
    "[R, E] = my_bisection(f, 0, 2, 1e-2)\n",
    "print(f\"R = {R}\\nE = {E}\")"
   ]
  },
  {
   "cell_type": "markdown",
   "metadata": {},
   "source": [
    "**Q5.**  Write a function $my\\_newton(f,df,x0,tol)$ that returns $[R,E],$ where $f$ is a function object, $df$ is a function object giving the derivative of $f,$ $x_0$ is an initial estimation of the root, and $tol$ is a strictly positive scalar. The function should return an array, $R,$ where $R[i]$ is the **Newton–Raphson** estimate of the root of $f$ for the $i^{th}$ iteration. Remember to include the initial estimate. The function should also return an array, $E,$ where $E[i]$ is the value of $|f(R[i])|$ for the $i^{th}$ iteration of the **Newton-Raphson** method. The function should terminate when $E(i) < tol.$ Assume that the derivative of $f$ will not hit zero during any iteration for any of the test cases given."
   ]
  },
  {
   "cell_type": "code",
   "execution_count": 5,
   "metadata": {},
   "outputs": [],
   "source": [
    "def my_newton(f,df,x0,tol):\n",
    "    R = [x0]\n",
    "    E = [float(abs(f(x0)))]\n",
    "    while E[-1] >= tol:\n",
    "        x0 = x0 - f(x0)/df(x0)\n",
    "        R.append(float(x0))\n",
    "        E.append(float(abs(f(x0))))\n",
    "    return R, E"
   ]
  },
  {
   "cell_type": "code",
   "execution_count": 6,
   "metadata": {},
   "outputs": [
    {
     "name": "stdout",
     "output_type": "stream",
     "text": [
      "R = [1, 1.5, 1.4166666666666667, 1.4142156862745099]\n",
      "E = [1.0, 0.25, 0.006944444444444642, 6.007304882871267e-06]\n"
     ]
    }
   ],
   "source": [
    "f = lambda x: x**2- 2\n",
    "df = lambda x: 2*x\n",
    "[R, E] = my_newton(f, df, 1, 1e-5)\n",
    "print(f\"R = {R}\\nE = {E}\")"
   ]
  },
  {
   "cell_type": "code",
   "execution_count": 7,
   "metadata": {},
   "outputs": [
    {
     "name": "stdout",
     "output_type": "stream",
     "text": [
      "R = [1, 0.782041901539138, 0.7853981759997019]\n",
      "E = [0.30116867893975674, 0.004746462127804163, 1.7822277875723103e-08]\n"
     ]
    }
   ],
   "source": [
    "f = lambda x: np.sin(x)- np.cos(x)\n",
    "df = lambda x: np.cos(x) + np.sin(x)\n",
    "[R, E] = my_newton(f, df, 1, 1e-5)\n",
    "print(f\"R = {R}\\nE = {E}\")"
   ]
  },
  {
   "cell_type": "markdown",
   "metadata": {},
   "source": [
    "$\\underline{\\text{This is the \\textbf{END} of the Exercise.}}$"
   ]
  }
 ],
 "metadata": {
  "kernelspec": {
   "display_name": "Python 3",
   "language": "python",
   "name": "python3"
  },
  "language_info": {
   "codemirror_mode": {
    "name": "ipython",
    "version": 3
   },
   "file_extension": ".py",
   "mimetype": "text/x-python",
   "name": "python",
   "nbconvert_exporter": "python",
   "pygments_lexer": "ipython3",
   "version": "3.10.12"
  }
 },
 "nbformat": 4,
 "nbformat_minor": 2
}
