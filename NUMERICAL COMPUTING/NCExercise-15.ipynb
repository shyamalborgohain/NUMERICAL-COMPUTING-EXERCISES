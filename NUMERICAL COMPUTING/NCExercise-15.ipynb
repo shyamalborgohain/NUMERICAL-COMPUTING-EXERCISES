{
 "cells": [
  {
   "cell_type": "markdown",
   "metadata": {},
   "source": [
    "### **Chapter 15:  _EIGENVALUES AND EIGENVECTORS_**"
   ]
  },
  {
   "cell_type": "code",
   "execution_count": 1,
   "metadata": {},
   "outputs": [],
   "source": [
    "import numpy as np\n",
    "import sympy as sp"
   ]
  },
  {
   "cell_type": "markdown",
   "metadata": {},
   "source": [
    "**Q1.** Write down the characteristic equation for matrix $A = \\begin{bmatrix} 3 & 2 \\\\ 5 & 3 \\end{bmatrix}.$"
   ]
  },
  {
   "cell_type": "code",
   "execution_count": 2,
   "metadata": {},
   "outputs": [
    {
     "name": "stdout",
     "output_type": "stream",
     "text": [
      "The Characteristic Equation is: x**2 - 6*x - 1 = 0.\n"
     ]
    }
   ],
   "source": [
    "A = np.array([[3, 2], [5, 3]])\n",
    "x = sp.symbols('x')\n",
    "char_eq = sp.det(A - x * sp.eye(2))\n",
    "print(f\"The Characteristic Equation is: {char_eq} = 0.\")"
   ]
  },
  {
   "cell_type": "markdown",
   "metadata": {},
   "source": [
    "**Q2.** Use the above characteristic equation to solve for eigenvalues and eigenvectors of matrix A."
   ]
  },
  {
   "cell_type": "code",
   "execution_count": 3,
   "metadata": {},
   "outputs": [
    {
     "name": "stdout",
     "output_type": "stream",
     "text": [
      "Eigenvalues: [ 6.16227766 -0.16227766]\n",
      "\n",
      "Eigenvector1:\n",
      "[[0.63245553]\n",
      " [1.        ]]\n",
      "\n",
      "Eigenvector2: \n",
      "[[ 0.63245553]\n",
      " [-1.        ]]\n"
     ]
    }
   ],
   "source": [
    "coefficients = [1, -6, -1]\n",
    "eig_val = np.roots(coefficients)\n",
    "print(f\"Eigenvalues: {eig_val}\\n\")\n",
    "\n",
    "eig_vec = []\n",
    "\n",
    "x = np.ones((2, 1))\n",
    "for i in range(5):\n",
    "    x = np.dot(A, x)\n",
    "    x = x / np.linalg.norm(x, ord=np.inf)\n",
    "eig_vec.append(x)\n",
    "\n",
    "x = np.ones((2, 1))\n",
    "for i in range(8):\n",
    "    x = np.dot(np.linalg.inv(A), x)\n",
    "    x = x / np.linalg.norm(x, ord=np.inf)\n",
    "eig_vec.append(x)\n",
    "\n",
    "print(f\"Eigenvector1:\\n{eig_vec[0]}\\n\")\n",
    "print(f\"Eigenvector2: \\n{eig_vec[1]}\")"
   ]
  },
  {
   "cell_type": "markdown",
   "metadata": {},
   "source": [
    "**Q3.** Use the first eigenvector derived from $Problem-2$ to verify that $Ax = λx.$"
   ]
  },
  {
   "cell_type": "code",
   "execution_count": 4,
   "metadata": {},
   "outputs": [
    {
     "name": "stdout",
     "output_type": "stream",
     "text": [
      "True\n",
      "True\n"
     ]
    }
   ],
   "source": [
    "for i in range(2):\n",
    "    if np.allclose(np.dot(A, eig_vec[i]), eig_val[i] * eig_vec[i]):\n",
    "        print(\"True\")\n",
    "    else:\n",
    "        print(\"False\")"
   ]
  },
  {
   "cell_type": "markdown",
   "metadata": {},
   "source": [
    "*This is the **END** of this Exercise.*"
   ]
  }
 ],
 "metadata": {
  "kernelspec": {
   "display_name": "Python 3",
   "language": "python",
   "name": "python3"
  },
  "language_info": {
   "codemirror_mode": {
    "name": "ipython",
    "version": 3
   },
   "file_extension": ".py",
   "mimetype": "text/x-python",
   "name": "python",
   "nbconvert_exporter": "python",
   "pygments_lexer": "ipython3",
   "version": "3.10.12"
  }
 },
 "nbformat": 4,
 "nbformat_minor": 2
}
