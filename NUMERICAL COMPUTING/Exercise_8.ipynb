{
 "cells": [
  {
   "cell_type": "markdown",
   "metadata": {},
   "source": [
    "### **Chapter 8: _COMPLEXITY_**"
   ]
  },
  {
   "cell_type": "code",
   "execution_count": 1,
   "metadata": {},
   "outputs": [],
   "source": [
    "import numpy as np\n",
    "%load_ext line_profiler\n",
    "import timeit"
   ]
  },
  {
   "cell_type": "markdown",
   "metadata": {},
   "source": [
    "**Q7.**  Run the following two iterative implementations of finding Fibonacci numbers in the *line_profiler* as well as using the magic command to get the repeated run time. The first implementation preallocates memory to an array that stores all the Fibonacci numbers. The second implementation expands the list at each iteration of the for-loop."
   ]
  },
  {
   "cell_type": "code",
   "execution_count": 2,
   "metadata": {},
   "outputs": [],
   "source": [
    "def my_fib_iter1(n):\n",
    "    out = np.zeros(n)\n",
    "    out[:2] = 1\n",
    "    for i in range(2, n):\n",
    "        out[i] = out[i-1] + out[i-2]\n",
    "        return out"
   ]
  },
  {
   "cell_type": "code",
   "execution_count": 3,
   "metadata": {},
   "outputs": [
    {
     "name": "stdout",
     "output_type": "stream",
     "text": [
      "804 ns ± 20.2 ns per loop (mean ± std. dev. of 7 runs, 1,000,000 loops each)\n"
     ]
    },
    {
     "name": "stdout",
     "output_type": "stream",
     "text": [
      "Timer unit: 1e-09 s\n",
      "\n",
      "Total time: 5.9766e-05 s\n",
      "File: /tmp/ipykernel_33435/1507652561.py\n",
      "Function: my_fib_iter1 at line 1\n",
      "\n",
      "Line #      Hits         Time  Per Hit   % Time  Line Contents\n",
      "==============================================================\n",
      "     1                                           def my_fib_iter1(n):\n",
      "     2         1      41287.0  41287.0     69.1      out = np.zeros(n)\n",
      "     3         1      11483.0  11483.0     19.2      out[:2] = 1\n",
      "     4         1       1342.0   1342.0      2.2      for i in range(2, n):\n",
      "     5         1       5313.0   5313.0      8.9          out[i] = out[i-1] + out[i-2]\n",
      "     6         1        341.0    341.0      0.6          return out"
     ]
    }
   ],
   "source": [
    "%lprun -f my_fib_iter1 my_fib_iter1(1000)\n",
    "%timeit my_fib_iter1(1000)"
   ]
  },
  {
   "cell_type": "code",
   "execution_count": 4,
   "metadata": {},
   "outputs": [],
   "source": [
    "def my_fib_iter2(n):\n",
    "    out = [1, 1]\n",
    "    for i in range(2, n):\n",
    "        out.append(out[-1] + out[-2])\n",
    "        return np.array(out)"
   ]
  },
  {
   "cell_type": "code",
   "execution_count": 5,
   "metadata": {},
   "outputs": [
    {
     "name": "stdout",
     "output_type": "stream",
     "text": [
      "520 ns ± 22.4 ns per loop (mean ± std. dev. of 7 runs, 1,000,000 loops each)\n"
     ]
    },
    {
     "name": "stdout",
     "output_type": "stream",
     "text": [
      "Timer unit: 1e-09 s\n",
      "\n",
      "Total time: 7.3199e-05 s\n",
      "File: /tmp/ipykernel_33435/2418341957.py\n",
      "Function: my_fib_iter2 at line 1\n",
      "\n",
      "Line #      Hits         Time  Per Hit   % Time  Line Contents\n",
      "==============================================================\n",
      "     1                                           def my_fib_iter2(n):\n",
      "     2         1       1700.0   1700.0      2.3      out = [1, 1]\n",
      "     3         1       3335.0   3335.0      4.6      for i in range(2, n):\n",
      "     4         1       1709.0   1709.0      2.3          out.append(out[-1] + out[-2])\n",
      "     5         1      66455.0  66455.0     90.8          return np.array(out)"
     ]
    }
   ],
   "source": [
    "%lprun -f my_fib_iter2 my_fib_iter2(1000)\n",
    "%timeit my_fib_iter2(1000)"
   ]
  },
  {
   "cell_type": "markdown",
   "metadata": {},
   "source": [
    "*This is the **END** of the Exercise.*"
   ]
  }
 ],
 "metadata": {
  "kernelspec": {
   "display_name": "Python 3",
   "language": "python",
   "name": "python3"
  },
  "language_info": {
   "codemirror_mode": {
    "name": "ipython",
    "version": 3
   },
   "file_extension": ".py",
   "mimetype": "text/x-python",
   "name": "python",
   "nbconvert_exporter": "python",
   "pygments_lexer": "ipython3",
   "version": "3.10.12"
  }
 },
 "nbformat": 4,
 "nbformat_minor": 2
}
