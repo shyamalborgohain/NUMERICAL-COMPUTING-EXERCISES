{
 "cells": [
  {
   "cell_type": "markdown",
   "metadata": {},
   "source": [
    "### **Chapter 20:** $\\underline{\\textbf{ NUMERICAL DIFFERENTIATION}}$"
   ]
  },
  {
   "cell_type": "markdown",
   "metadata": {},
   "source": [
    "**Q1.** Write a function $my\\_def\\_calc(f, a, b, N, option)$ with the output as $[df,X],$ where $f$ is a function object, $a$ and $b$ are scalars such that $a < b,$ $N$ is an integer bigger than $10,$ and option is the string $\"forward\",$ $\"backward\",$ or $\"central\".$ Let x be an array starting at $a,$ ending at $b,$ containing $N$ evenly spaced elements, and let $y$ be the array $f(x).$ The output argument, $df,$ should be the numerical derivatives computed for $x$ and $y$ according to the method defined by the input argument, $option.$ The output argument $X$ should be an array the same size as $df,$ containing the points in $x$ for which $df$ is valid. Specifically, the forward difference method $“loses”$ the last point, the backward difference method loses the first point, and the central difference method loses the first and last points."
   ]
  },
  {
   "cell_type": "code",
   "execution_count": 1,
   "metadata": {},
   "outputs": [
    {
     "name": "stdout",
     "output_type": "stream",
     "text": [
      "Forward Difference:\n",
      "X: [0.         0.52631579 1.05263158 1.57894737 2.10526316 2.63157895\n",
      " 3.15789474 3.68421053 4.21052632 4.73684211 5.26315789 5.78947368\n",
      " 6.31578947 6.84210526 7.36842105 7.89473684 8.42105263 8.94736842\n",
      " 9.47368421]\n",
      "df: [ 0.95446719  0.69611908  0.24935061 -0.26491024 -0.70746715 -0.95853208\n",
      " -0.95014865 -0.68458602 -0.23372471  0.28039947  0.7186272   0.96234224\n",
      "  0.94557761  0.67287103  0.2180367  -0.29581419 -0.72959628 -0.96589665\n",
      " -0.94075527]\n",
      "Backward Difference:\n",
      "X: [ 0.52631579  1.05263158  1.57894737  2.10526316  2.63157895  3.15789474\n",
      "  3.68421053  4.21052632  4.73684211  5.26315789  5.78947368  6.31578947\n",
      "  6.84210526  7.36842105  7.89473684  8.42105263  8.94736842  9.47368421\n",
      " 10.        ]\n",
      "df: [ 0.95446719  0.69611908  0.24935061 -0.26491024 -0.70746715 -0.95853208\n",
      " -0.95014865 -0.68458602 -0.23372471  0.28039947  0.7186272   0.96234224\n",
      "  0.94557761  0.67287103  0.2180367  -0.29581419 -0.72959628 -0.96589665\n",
      " -0.94075527]\n",
      "Central Difference:\n",
      "X: [0.52631579 1.05263158 1.57894737 2.10526316 2.63157895 3.15789474\n",
      " 3.68421053 4.21052632 4.73684211 5.26315789 5.78947368 6.31578947\n",
      " 6.84210526 7.36842105 7.89473684 8.42105263 8.94736842 9.47368421]\n",
      "df: [ 0.82529314  0.47273484 -0.00777982 -0.48618869 -0.83299961 -0.95434037\n",
      " -0.81736734 -0.45915537  0.02333738  0.49951334  0.84048472  0.95395992\n",
      "  0.80922432  0.44545387 -0.03888874 -0.51270523 -0.84774647 -0.95332596]\n"
     ]
    }
   ],
   "source": [
    "import numpy as np\n",
    "\n",
    "def my_def_calc(f, a, b, N, option):\n",
    "    x = np.linspace(a, b, N)\n",
    "    y = f(x)\n",
    "    h = x[1] - x[0]\n",
    "    \n",
    "    if option == \"forward\":\n",
    "        df = (y[1:] - y[:-1]) / h\n",
    "        X = x[:-1]\n",
    "    \n",
    "    elif option == \"backward\":\n",
    "        df = (y[1:] - y[:-1]) / h\n",
    "        X = x[1:]\n",
    "    \n",
    "    elif option == \"central\":\n",
    "        df = (y[2:] - y[:-2]) / (2 * h)\n",
    "        X = x[1:-1]\n",
    "    \n",
    "    return df, X\n",
    "\n",
    "\n",
    "def f(x):\n",
    "    return np.sin(x)\n",
    "\n",
    "df_forward, X_forward = my_def_calc(f, 0, 10, 20, \"forward\")\n",
    "df_backward, X_backward = my_def_calc(f, 0, 10, 20, \"backward\")\n",
    "df_central, X_central = my_def_calc(f, 0, 10, 20, \"central\")\n",
    "\n",
    "print(\"Forward Difference:\")\n",
    "print(\"X:\", X_forward)\n",
    "print(\"df:\", df_forward)\n",
    "\n",
    "print(\"Backward Difference:\")\n",
    "print(\"X:\", X_backward)\n",
    "print(\"df:\", df_backward)\n",
    "\n",
    "print(\"Central Difference:\")\n",
    "print(\"X:\", X_central)\n",
    "print(\"df:\", df_central)\n"
   ]
  },
  {
   "cell_type": "markdown",
   "metadata": {},
   "source": [
    "$\\underline{\\text{This is the \\textbf{END} of the Exercise.}}$"
   ]
  }
 ],
 "metadata": {
  "kernelspec": {
   "display_name": "Python 3",
   "language": "python",
   "name": "python3"
  },
  "language_info": {
   "codemirror_mode": {
    "name": "ipython",
    "version": 3
   },
   "file_extension": ".py",
   "mimetype": "text/x-python",
   "name": "python",
   "nbconvert_exporter": "python",
   "pygments_lexer": "ipython3",
   "version": "3.10.12"
  }
 },
 "nbformat": 4,
 "nbformat_minor": 2
}
