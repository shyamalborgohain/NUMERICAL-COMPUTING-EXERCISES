{
 "cells": [
  {
   "cell_type": "markdown",
   "metadata": {},
   "source": [
    "### **Chapter 18:** $\\underline{\\textbf{TAYLOR SERIES}}$"
   ]
  },
  {
   "cell_type": "markdown",
   "metadata": {},
   "source": [
    "**Q4.**  Write a function that gives the Taylor series approximation to the np.exp function around $0$ for an order $1$ through $7.$ Calculate the truncation error bound for order $7.$"
   ]
  },
  {
   "cell_type": "code",
   "execution_count": 1,
   "metadata": {},
   "outputs": [],
   "source": [
    "import numpy as np\n",
    "import math\n",
    "\n",
    "def f(x):\n",
    "    y = 1\n",
    "    for i in range(1, 8):\n",
    "        y = y + (x**i) / math.factorial(i)\n",
    "        print(f\"Order {i}: Observed Value of f({x}) = {y}\")\n",
    "    \n",
    "    print(f\"Absolute Value of f({x}) = {np.exp(x)}\")\n",
    "    print(f\"Order 7: Error Bound of f({x})= {max(1, x**8)/math.factorial(8)}\")\n",
    "    print(f\"Order 7: Absolute Error of f({x})= {abs(np.exp(x) - y)}\")"
   ]
  },
  {
   "cell_type": "code",
   "execution_count": 2,
   "metadata": {},
   "outputs": [
    {
     "name": "stdout",
     "output_type": "stream",
     "text": [
      "Order 1: Observed Value of f(0.007) = 1.007\n",
      "Order 2: Observed Value of f(0.007) = 1.0070245\n",
      "Order 3: Observed Value of f(0.007) = 1.0070245571666667\n",
      "Order 4: Observed Value of f(0.007) = 1.0070245572667085\n",
      "Order 5: Observed Value of f(0.007) = 1.0070245572668486\n",
      "Order 6: Observed Value of f(0.007) = 1.0070245572668488\n",
      "Order 7: Observed Value of f(0.007) = 1.0070245572668488\n",
      "Absolute Value of f(0.007) = 1.0070245572668486\n",
      "Order 7: Error Bound of f(0.007)= 2.48015873015873e-05\n",
      "Order 7: Absolute Error of f(0.007)= 2.220446049250313e-16\n"
     ]
    }
   ],
   "source": [
    "f(0.007)"
   ]
  },
  {
   "cell_type": "code",
   "execution_count": 3,
   "metadata": {},
   "outputs": [
    {
     "name": "stdout",
     "output_type": "stream",
     "text": [
      "Order 1: Observed Value of f(2.718281828459045) = 3.718281828459045\n",
      "Order 2: Observed Value of f(2.718281828459045) = 7.41280987792437\n",
      "Order 3: Observed Value of f(2.718281828459045) = 10.760399365122314\n",
      "Order 4: Observed Value of f(2.718281828459045) = 13.03532228316999\n",
      "Order 5: Observed Value of f(2.718281828459045) = 14.272098609024795\n",
      "Order 6: Observed Value of f(2.718281828459045) = 14.832416377764705\n",
      "Order 7: Observed Value of f(2.718281828459045) = 15.050002321897336\n",
      "Absolute Value of f(2.718281828459045) = 15.154262241479262\n",
      "Order 7: Error Bound of f(2.718281828459045)= 0.07393248975797934\n",
      "Order 7: Absolute Error of f(2.718281828459045)= 0.10425991958192604\n"
     ]
    }
   ],
   "source": [
    "f(math.e)"
   ]
  },
  {
   "cell_type": "code",
   "execution_count": 4,
   "metadata": {},
   "outputs": [
    {
     "name": "stdout",
     "output_type": "stream",
     "text": [
      "Order 1: Observed Value of f(-1.17) = -0.16999999999999993\n",
      "Order 2: Observed Value of f(-1.17) = 0.51445\n",
      "Order 3: Observed Value of f(-1.17) = 0.24751450000000003\n",
      "Order 4: Observed Value of f(-1.17) = 0.32559313375\n",
      "Order 5: Observed Value of f(-1.17) = 0.3073227334525\n",
      "Order 6: Observed Value of f(-1.17) = 0.3108854615105125\n",
      "Order 7: Observed Value of f(-1.17) = 0.3102899769636733\n",
      "Absolute Value of f(-1.17) = 0.31036694126548503\n",
      "Order 7: Error Bound of f(-1.17)= 8.708961497523766e-05\n",
      "Order 7: Absolute Error of f(-1.17)= 7.696430181175495e-05\n"
     ]
    }
   ],
   "source": [
    "f(-1.17)"
   ]
  },
  {
   "cell_type": "markdown",
   "metadata": {},
   "source": [
    "*This is the **END** of this Exercise.*"
   ]
  }
 ],
 "metadata": {
  "kernelspec": {
   "display_name": "Python 3",
   "language": "python",
   "name": "python3"
  },
  "language_info": {
   "codemirror_mode": {
    "name": "ipython",
    "version": 3
   },
   "file_extension": ".py",
   "mimetype": "text/x-python",
   "name": "python",
   "nbconvert_exporter": "python",
   "pygments_lexer": "ipython3",
   "version": "3.10.12"
  }
 },
 "nbformat": 4,
 "nbformat_minor": 2
}
